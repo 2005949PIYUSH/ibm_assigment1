{
 "cells": [
  {
   "cell_type": "markdown",
   "id": "bcc0903f",
   "metadata": {},
   "source": [
    "#  2.Data Science Tools and Ecosystem"
   ]
  },
  {
   "cell_type": "markdown",
   "id": "ab6e9385",
   "metadata": {},
   "source": [
    "3.In this notebook, Data Science Tools and Ecosystem are summarized."
   ]
  },
  {
   "cell_type": "markdown",
   "id": "e26fb3c5",
   "metadata": {},
   "source": [
    "10.List of objectives:\n",
    "\n",
    "- Exercise 2 - Create a markdown cell with the title of the notebook. (1 pt)\n",
    "\n",
    "- Exercise 3 - Create a markdown cell for an introduction. (1 pt)\n",
    "\n",
    "- Exercise 4 - Create a markdown cell to list data science languages. (3 pts)\n",
    "\n",
    " - Exercise 5 - Create a markdown cell to list data science libraries. (3 pts)\n",
    "\n",
    "- Exercise 6 - Create a markdown cell with a table of Data Science tools. (3 pts)\n",
    "\n",
    "- Exercise 7 - Create a markdown cell introducing arithmetic expression examples. (1 pt)\n",
    "\n",
    "- Exercise 8 - Create a code cell to multiply and add numbers. (2 pts)\n",
    "\n",
    "- Exercise 9 - Create a code cell to convert minutes to hours. (2 pts)\n",
    "\n"
   ]
  },
  {
   "cell_type": "markdown",
   "id": "a9dde8fa",
   "metadata": {},
   "source": [
    "4.Some of the popular languages that Data Scientists use are:\n",
    "1. Python\n",
    "2. R\n",
    "3. Julia\n",
    "4. SAS\n",
    "5. MATLAB\n",
    "6. Scala"
   ]
  },
  {
   "cell_type": "markdown",
   "id": "eedfc064",
   "metadata": {},
   "source": [
    "5.Some of the commonly used libraries used by Data Scientists include:\n",
    "1. Numpy\n",
    "2. Pandas\n",
    "3. Seaborn\n",
    "4. TensorFlpw\n",
    "5. PyTorch\n"
   ]
  },
  {
   "cell_type": "markdown",
   "id": "742b50b3",
   "metadata": {},
   "source": [
    "# 6.TABLE of data science tools\n",
    "| Tool         | Description                                 |\n",
    "|--------------|---------------------------------------------|\n",
    "| Jupyter      | Interactive notebooks for data exploration   |\n",
    "| Python       | Programming language for data analysis       |\n",
    "| R            | Statistical programming language             |\n",
    "| Pandas       | Data manipulation and analysis library       |\n",
    "| NumPy        | Numerical computing library                  |\n",
    "| scikit-learn | Machine learning library                     |\n",
    "| TensorFlow   | Deep learning framework                      |\n",
    "| Keras        | High-level neural networks API                |\n",
    "| Matplotlib   | Data visualization library                   |\n",
    "| Seaborn      | Statistical data visualization library       |\n",
    "| SQL          | Query language for relational databases      |\n",
    "| Tableau      | Data visualization and reporting tool        |\n",
    "| Apache Spark | Distributed data processing framework        |\n",
    "| Hadoop       | Distributed storage and processing framework |\n"
   ]
  },
  {
   "cell_type": "markdown",
   "id": "7f3d203b",
   "metadata": {},
   "source": [
    "### 7.Arithmetic Expression Examples\n",
    "\n",
    "examples of arithmetic expressions:\n",
    "\n",
    "1. Addition: `2 + 4 = 6`\n",
    "   - In this example, the `+` operator is used to add the numbers 2 and 4, resulting in the sum of 6.\n",
    "\n",
    "2. Subtraction: `6 - 4 = 2`\n",
    "   - The `-` operator subtracts 4 from 6, resulting in the difference of 2.\n",
    "\n",
    "3. Multiplication: `5 * 3 = 15`\n",
    "   - The `*` operator multiplies 5 and 3, giving the product of 15.\n",
    "\n",
    "4. Division: `12 / 2 = 6`\n",
    "   - The `/` operator divides 12 by 2, resulting in the quotient of 6.\n",
    "\n",
    "5. Exponentiation: `2 ** 3 = 8`\n",
    "   - The `**` operator raises 2 to the power of 3, giving the result of 8.\n",
    "\n",
    "6. Modulo: `10 % 3 = 1`\n",
    "   - The `%` operator calculates the remainder when 10 is divided by 3, which is 1 in this case.\n",
    "\n",
    "These are just a few examples of arithmetic expressions.\n"
   ]
  },
  {
   "cell_type": "code",
   "execution_count": 7,
   "id": "67f56151",
   "metadata": {},
   "outputs": [
    {
     "name": "stdout",
     "output_type": "stream",
     "text": [
      "17\n"
     ]
    }
   ],
   "source": [
    "#8code cell to multiply and add numbers\n",
    "print((3*4)+5)\n"
   ]
  },
  {
   "cell_type": "code",
   "execution_count": 6,
   "id": "ee995dec",
   "metadata": {},
   "outputs": [
    {
     "name": "stdout",
     "output_type": "stream",
     "text": [
      "enter min time:200\n",
      "time in hr: 3 hour\n",
      "time in hr and min: 3 hour 20 minutes\n"
     ]
    }
   ],
   "source": [
    "#9code cell to convert minutes into hours\n",
    "min=int(input(\"enter min time:\"))\n",
    "hr=int(min/60)\n",
    "rmin=min%60\n",
    "print(\"time in hr:\",hr,\"hour\")\n",
    "print(\"time in hr and min:\",hr,\"hour\",rmin,\"minutes\")"
   ]
  },
  {
   "cell_type": "markdown",
   "id": "f143d5bf",
   "metadata": {},
   "source": [
    "# 11. Author name\n",
    "Piyush Mohanty"
   ]
  },
  {
   "cell_type": "code",
   "execution_count": null,
   "id": "fc0b148d",
   "metadata": {},
   "outputs": [],
   "source": []
  }
 ],
 "metadata": {
  "kernelspec": {
   "display_name": "Python 3 (ipykernel)",
   "language": "python",
   "name": "python3"
  },
  "language_info": {
   "codemirror_mode": {
    "name": "ipython",
    "version": 3
   },
   "file_extension": ".py",
   "mimetype": "text/x-python",
   "name": "python",
   "nbconvert_exporter": "python",
   "pygments_lexer": "ipython3",
   "version": "3.9.12"
  }
 },
 "nbformat": 4,
 "nbformat_minor": 5
}
